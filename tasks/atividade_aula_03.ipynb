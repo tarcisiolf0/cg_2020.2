{
 "cells": [
  {
   "cell_type": "code",
   "execution_count": 5,
   "id": "743022fb",
   "metadata": {},
   "outputs": [],
   "source": [
    "import numpy as np\n",
    "import matplotlib.pyplot as plt"
   ]
  },
  {
   "cell_type": "markdown",
   "id": "426aadfe",
   "metadata": {},
   "source": [
    "# Atividade Aula 03\n",
    "## Tarcísio Lima Ferreira\n",
    "\n",
    "1 - Indicar que localizações serão calculadas pelo algoritmo de Bresenham quando se gera por varredura um segmento de reta entre (1,1) e (8,5) em coordenadas da tela;\n",
    "\n",
    "Se d > 0, escolhemos NE;//\n",
    "Se d < 0, escolhemos E;\n",
    "Se d = 0, escolhemos NE ou E\n",
    "\n",
    "dx = 8-1 = 7\n",
    "dy = 5-1 = 4\n",
    "\n",
    "Dstart = 2dy-dx = (2*4) - 7 = 1;\n",
    "delta_E = 2*dy = 2*4 = 8;\n",
    "delta_NE = 2*(dy - dx) =  2*(4-7) = -6;\n",
    "\n",
    "\n",
    "X | Y | d | Pixels escolhidos | Incremento |\n",
    "--|---|---|-------------------|------------|\n",
    "1 | 1 | 1 | NE | 1 + (-6)\n",
    "2 | 2 |-5 | E  |-5 + 8\n",
    "3 | 2 | 3 | NE | 3 +(-6)\n",
    "4 | 3 |-3 | E  |-3 + 8\n",
    "5 | 3 | 5 | NE | 5 + (-6)\n",
    "6 | 4 |-1 | E  |-1 + 8\n",
    "7 | 4 | 7 | NE |7 + (-6)\n",
    "8 | 5 | 1 | NE |1 + (-6)\n",
    "\n"
   ]
  },
  {
   "cell_type": "code",
   "execution_count": 7,
   "id": "84c51ac0",
   "metadata": {},
   "outputs": [],
   "source": [
    "def bresenham(x1, y1, x2, y2):\n",
    "    dx = (x2 - x1)\n",
    "    dy = (y2 - y1)\n",
    "    d = (2*dy - dx)\n",
    "    deltaE = (2*dy)\n",
    "    deltaNE = (2*(dy-dx))\n",
    "    x = x1\n",
    "    y = y1\n",
    "\n",
    "    xlist = []\n",
    "    ylist = []\n",
    "\n",
    "    while(x < x2):\n",
    "            #E\n",
    "        if d <= 0:\n",
    "            d = (d + deltaE)\n",
    "            x = (x + 1)\n",
    "        else:\n",
    "            # NE\n",
    "            d = (d + deltaNE)\n",
    "            x = (x + 1)\n",
    "            y = (x + 1)\n",
    "\n",
    "            xlist.append(x)\n",
    "            ylist.append(y)\n",
    "\n",
    "    return xlist, ylist"
   ]
  },
  {
   "cell_type": "code",
   "execution_count": 12,
   "id": "445bbe53",
   "metadata": {},
   "outputs": [
    {
     "data": {
      "text/plain": [
       "Text(0.5, 1.0, 'Resultado Besenham')"
      ]
     },
     "execution_count": 12,
     "metadata": {},
     "output_type": "execute_result"
    },
    {
     "data": {
      "image/png": "[encoded data removed]",
      "text/plain": [
       "<Figure size 432x432 with 1 Axes>"
      ]
     },
     "metadata": {
      "needs_background": "light"
     },
     "output_type": "display_data"
    }
   ],
   "source": [
    "x = []\n",
    "y = []\n",
    "x,y = bresenham(1,1,8,5)\n",
    "\n",
    "plt.figure(figsize=(6,6))\n",
    "plt.plot(x,y, 'ro')\n",
    "plt.xlabel('Valor de X')\n",
    "plt.ylabel('Valor de Y')\n",
    "plt.title('Resultado Besenham')"
   ]
  }
 ],
 "metadata": {
  "kernelspec": {
   "display_name": "Python 3.6.9 64-bit",
   "language": "python",
   "name": "python369jvsc74a57bd031f2aee4e71d21fbe5cf8b01ff0e069b9275f58929596ceb00d14d90e3e16cd6"
  },
  "language_info": {
   "codemirror_mode": {
    "name": "ipython",
    "version": 3
   },
   "file_extension": ".py",
   "mimetype": "text/x-python",
   "name": "python",
   "nbconvert_exporter": "python",
   "pygments_lexer": "ipython3",
   "version": "3.8.10"
  }
 },
 "nbformat": 4,
 "nbformat_minor": 5
}
